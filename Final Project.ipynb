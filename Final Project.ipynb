{
    "nbformat_minor": 1, 
    "cells": [
        {
            "source": "__THE BATTLE OF NEIGHBOURHOODS__", 
            "cell_type": "markdown", 
            "metadata": {}
        }, 
        {
            "source": "__Problem Background:__", 
            "cell_type": "markdown", 
            "metadata": {
                "collapsed": true
            }
        }, 
        {
            "source": "The city of New york is a major center for banking and finance, retailing, world trade, transportation, tourism, real estate, new media, traditional media, advertising, legal services, accountancy, insurance, theater, fashion, and the arts in the United States.This also means that the market is highly competitive. As it is highly developed city so cost of doing business is also one of the highest. Thus, any new business venture or expansion needs to be analysed carefully. The insights derived from analysis will give good understanding of the business environment which help in strategically targeting the market. This will help in reduction of risk. And the Return on Investment will be reasonable.", 
            "cell_type": "markdown", 
            "metadata": {}
        }, 
        {
            "source": "__Problem Description:__", 
            "cell_type": "markdown", 
            "metadata": {}
        }, 
        {
            "source": "A restaurant is a business which prepares and serves food and drink to customers in return for money, either paid before the meal, after the meal, or with an open account.\nSo it is evident that to survive in such competitive market it is very important to startegically plan. Various factors need to be studied inorder to decide on the Location such as :\n1. New York Population\n2. New York City Demographics\n3. Are there any Farmers Markets, Wholesale markets etc nearby so that the ingredients can be purchased fresh to maintain quality and cost?\n4. Are there any venues like Gyms, Entertainmnet zones, Parks etc nearby where floating population is high etc\n5. Who are the competitors in that location?\n6. Cuisine served / Menu of the competitors\n7. Segmentation of the Borough\n8. Untapped markets\nand many more.\nEventhough well funded SV Company Ltd. need to choose the correct location to start its first venture.If this is successful they can replicate the same in other locations. First move is very important, thereby choice of location is very important.", 
            "cell_type": "markdown", 
            "metadata": {}
        }, 
        {
            "source": "__Target audience__", 
            "cell_type": "markdown", 
            "metadata": {}
        }, 
        {
            "source": "The company has chosen us to find a location for them that is suitable for the kind of bussiness they want.", 
            "cell_type": "markdown", 
            "metadata": {}
        }, 
        {
            "source": "__Success criteria__", 
            "cell_type": "markdown", 
            "metadata": {}
        }, 
        {
            "source": "The success criteria of the project will be a good recommendation of Neighborhood choice to XYZ Company Ltd based on Lack of such restaurants in that location and nearest suppliers of ingredients.", 
            "cell_type": "markdown", 
            "metadata": {}
        }, 
        {
            "source": "__Data :__", 
            "cell_type": "markdown", 
            "metadata": {}
        }, 
        {
            "source": "Only one city will be analysed in this project i.e The city of Newyork", 
            "cell_type": "markdown", 
            "metadata": {}
        }, 
        {
            "source": "__Data 1__ : Neighborhood has a total of 5 boroughs and 306 neighborhoods. In order to segement the neighborhoods and explore them, we will essentially need a dataset that contains the 5 boroughs and the neighborhoods that exist in each borough as well as the the latitude and logitude coordinates of each neighborhood.\n\nThis dataset exists for free on the web. Link to the dataset is : https://geo.nyu.edu/catalog/nyu_2451_34572\n\n__Data 2__ : Second data which will be used is the DOHMH Farmers Markets and Food Boxes dataset. In this we will be using the data of Farmers Markets.\n\nhttps://data.cityofnewyork.us/dataset/DOHMH-Farmers-Markets-and-Food-Boxes/8vwk-6iz2\n\nWebsite-https://www.grownyc.org/greenmarketco/foodbox\nGrowNYC's Fresh Food Box Program is a food access initiative that enables under-served communities to purchase fresh, healthy, and primarily regionally grown produce well below traditional retail prices.\n\nA farmers' market is often defined as a public site used by two or more local or regional producers for the direct sale of farm products to consumers. In addition to fresh fruits and vegetables, markets may sell dairy products, fish, meat, baked goods, and other minimally processed foods.\n\n__Data 3__ : For the below analysis we will get data from wikipedia as given below :\n\n1. New York Population\n2. New York City Demographics\n3. Cuisine of New York city\n\nhttps://en.wikipedia.org/wiki/New_York_City\nhttps://en.wikipedia.org/wiki/Economy_of_New_York_City\nhttps://en.wikipedia.org/wiki/Portal:New_York_City\nhttps://en.wikipedia.org/wiki/Cuisine_of_New_York_City\nhttps://en.wikipedia.org/wiki/List_of_Michelin_starred_restaurants_in_New_York_City\n\n__Data 4__ : Newyork city geographical coordinates data will be utilized as input for the Foursquare API, that will be leveraged to provision venues information for each neighborhood.We will use the Foursquare API to explore neighborhoods in New York City. The below is image of the Foursquare API data.", 
            "cell_type": "markdown", 
            "metadata": {}
        }
    ], 
    "metadata": {
        "kernelspec": {
            "display_name": "Python 3.6", 
            "name": "python3", 
            "language": "python"
        }, 
        "language_info": {
            "mimetype": "text/x-python", 
            "nbconvert_exporter": "python", 
            "version": "3.6.8", 
            "name": "python", 
            "file_extension": ".py", 
            "pygments_lexer": "ipython3", 
            "codemirror_mode": {
                "version": 3, 
                "name": "ipython"
            }
        }
    }, 
    "nbformat": 4
}